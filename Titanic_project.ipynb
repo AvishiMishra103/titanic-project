{
 "cells": [
  {
   "cell_type": "markdown",
   "id": "ccc59ac3",
   "metadata": {},
   "source": [
    "Importing Libraries"
   ]
  },
  {
   "cell_type": "code",
   "execution_count": null,
   "id": "7e47795d",
   "metadata": {},
   "outputs": [],
   "source": [
    "import numpy as np\n",
    "import pandas as pd\n",
    "import seaborn as sns\n",
    "import matplotlib.pyplot as plt\n",
    "from sklearn.model_selection import train_test_split\n",
    "from sklearn.linear_model import LogisticRegression\n",
    "from sklearn.metrics import accuracy_score\n",
    "from sklearn.ensemble import RandomForestClassifier"
   ]
  },
  {
   "cell_type": "markdown",
   "id": "bd2a798b",
   "metadata": {},
   "source": [
    "Data Collection and Processing"
   ]
  },
  {
   "cell_type": "code",
   "execution_count": null,
   "id": "59d65152",
   "metadata": {},
   "outputs": [],
   "source": [
    "titanic_data = pd.read_csv(r\"titanic.csv\")"
   ]
  },
  {
   "cell_type": "code",
   "execution_count": null,
   "id": "de0f5d14",
   "metadata": {},
   "outputs": [],
   "source": [
    "titanic_data.head()"
   ]
  },
  {
   "cell_type": "code",
   "execution_count": null,
   "id": "f1ba0d68",
   "metadata": {},
   "outputs": [],
   "source": [
    "titanic_data.tail()"
   ]
  },
  {
   "cell_type": "code",
   "execution_count": null,
   "id": "52c70ffc",
   "metadata": {},
   "outputs": [],
   "source": [
    "titanic_data.shape"
   ]
  },
  {
   "cell_type": "code",
   "execution_count": null,
   "id": "da0e95a4",
   "metadata": {},
   "outputs": [],
   "source": [
    "titanic_data.info()"
   ]
  },
  {
   "cell_type": "code",
   "execution_count": null,
   "id": "ab1a5c18",
   "metadata": {},
   "outputs": [],
   "source": [
    "titanic_data.describe()"
   ]
  },
  {
   "cell_type": "code",
   "execution_count": null,
   "id": "05cd70d5",
   "metadata": {},
   "outputs": [],
   "source": [
    "titanic_data.isnull().sum()"
   ]
  },
  {
   "cell_type": "markdown",
   "id": "d62d375b",
   "metadata": {},
   "source": [
    "Finding Data Correlations"
   ]
  },
  {
   "cell_type": "code",
   "execution_count": null,
   "id": "6c5a8945",
   "metadata": {},
   "outputs": [],
   "source": [
    "titanic_data.corr(numeric_only = True)"
   ]
  },
  {
   "cell_type": "code",
   "execution_count": null,
   "id": "bdd78b57",
   "metadata": {},
   "outputs": [],
   "source": [
    "sns.heatmap(data = titanic_data.corr(numeric_only=True))"
   ]
  },
  {
   "cell_type": "markdown",
   "id": "e52f1449",
   "metadata": {},
   "source": [
    "Handling The Missing Values"
   ]
  },
  {
   "cell_type": "code",
   "execution_count": null,
   "id": "576fa7af",
   "metadata": {},
   "outputs": [],
   "source": [
    "#We have analysed that Age and Cabin are empty\n",
    "#Cabin is mostly empty so we will drop it\n",
    "titanic_data.drop(columns='Cabin', axis=1,inplace=True)"
   ]
  },
  {
   "cell_type": "code",
   "execution_count": null,
   "id": "578ec284",
   "metadata": {},
   "outputs": [],
   "source": [
    "titanic_data.head()"
   ]
  },
  {
   "cell_type": "code",
   "execution_count": null,
   "id": "7e870940",
   "metadata": {},
   "outputs": [],
   "source": [
    "titanic_data['Pclass']"
   ]
  },
  {
   "cell_type": "code",
   "execution_count": null,
   "id": "0e6f9b24",
   "metadata": {},
   "outputs": [],
   "source": [
    "#Age is also empty in some rows so we will fill it with average age in perspective of P Class\n",
    "titanic_data['Age'].fillna(0, inplace=True) # all NaN will be replaced by 0\n",
    "\n",
    "#some variables for extra calculation\n",
    "count_1 = 0\n",
    "count_2 = 0\n",
    "count_3 = 0\n",
    "\n",
    "sum_1 = 0\n",
    "sum_2 = 0\n",
    "sum_3 = 0\n",
    "\n",
    "#Calculating the average age of different P class\n",
    "for i in range(len(titanic_data['Age'])):\n",
    "    if (titanic_data['Pclass'][i]==1 and titanic_data['Age'][i]!=0):\n",
    "        count_1+=1\n",
    "        sum_1 += titanic_data['Age'][i]\n",
    "    if (titanic_data['Pclass'][i]==2 and titanic_data['Age'][i]!=0):\n",
    "        count_2+=1\n",
    "        sum_2 += titanic_data['Age'][i]\n",
    "    if (titanic_data['Pclass'][i]==3 and titanic_data['Age'][i]!=0):\n",
    "        count_3+=1\n",
    "        sum_3 += titanic_data['Age'][i]\n",
    "\n",
    "av_1 = int(sum_1/count_1)\n",
    "av_2 = int(sum_2/count_2)\n",
    "av_3 = int(sum_3/count_3)\n",
    "\n",
    "#Now we will replace the 0 in age with the respective average age value\n",
    "titanic_data.loc[(titanic_data['Pclass']==1) & (titanic_data['Age']==0), 'Age']=av_1\n",
    "titanic_data.loc[(titanic_data['Pclass']==2) & (titanic_data['Age']==0), 'Age']=av_2\n",
    "titanic_data.loc[(titanic_data['Pclass']==3) & (titanic_data['Age']==0), 'Age']=av_3\n",
    "\n",
    "\n"
   ]
  },
  {
   "cell_type": "code",
   "execution_count": null,
   "id": "232ffe76",
   "metadata": {},
   "outputs": [],
   "source": [
    "#Embarked is empty at two places so we will fill with mode\n",
    "titanic_data['Embarked'].fillna(titanic_data['Embarked'].mode()[0], inplace=True)"
   ]
  },
  {
   "cell_type": "code",
   "execution_count": null,
   "id": "d20a3ae9",
   "metadata": {},
   "outputs": [],
   "source": [
    "titanic_data.isnull().sum()"
   ]
  },
  {
   "cell_type": "markdown",
   "id": "317be33e",
   "metadata": {},
   "source": [
    "Data Analysis"
   ]
  },
  {
   "cell_type": "code",
   "execution_count": null,
   "id": "851a7e3c",
   "metadata": {},
   "outputs": [],
   "source": [
    "# Some Statistical data measures\n",
    "titanic_data.describe()"
   ]
  },
  {
   "cell_type": "code",
   "execution_count": null,
   "id": "723801cf",
   "metadata": {},
   "outputs": [],
   "source": [
    "# Finding the number of survived and not survived people\n",
    "titanic_data['Survived'].value_counts()\n",
    "# 0 means survived and 1 means not survived"
   ]
  },
  {
   "cell_type": "code",
   "execution_count": null,
   "id": "7be1addc",
   "metadata": {},
   "outputs": [],
   "source": [
    "# Finding the number of male and female\n",
    "titanic_data['Sex'].value_counts()"
   ]
  },
  {
   "cell_type": "markdown",
   "id": "4f52858a",
   "metadata": {},
   "source": [
    "Data Visualization"
   ]
  },
  {
   "cell_type": "code",
   "execution_count": null,
   "id": "479d0a00",
   "metadata": {},
   "outputs": [],
   "source": [
    "neon_palette = [\n",
    "    \"#F5D300\",  # laser yellow\n",
    "    \"#FF5F1F\",   # blaze orange\n",
    "    \"#FE53BB\",  # hot magenta\n",
    "    \"#6F2CF3\",  # violet pulse\n",
    "    \"#08F7FE\",  # electric cyan\n",
    "\n",
    "    \"#00FF41\"  # matrix green\n",
    "\n",
    "\n",
    "]\n",
    "\n",
    "sns.set_theme(\n",
    "    style=\"dark\",         \n",
    "    palette=neon_palette,\n",
    "    context=\"talk\"        \n",
    ")\n",
    "\n",
    "plt.rcParams.update({\n",
    "    \"figure.facecolor\":  \"#000000\",   # whole canvas\n",
    "    \"axes.facecolor\":    \"#000000\",   # plot panel\n",
    "    \"axes.edgecolor\":    \"#444444\",\n",
    "    \"grid.color\":        \"#333333\",\n",
    "    \"text.color\":        \"#FFFFFF\",\n",
    "    \"axes.labelcolor\":   \"#FFFFFF\",\n",
    "    \"xtick.color\":       \"#FFFFFF\",\n",
    "    \"ytick.color\":       \"#FFFFFF\"\n",
    "})\n",
    "\n",
    "# OPTIONAL: make grid lines dotted & subtle\n",
    "#plt.rcParams[\"grid.linestyle\"] = \":\"\n",
    "#plt.rcParams[\"grid.alpha\"]     = 0.25\n"
   ]
  },
  {
   "cell_type": "code",
   "execution_count": null,
   "id": "fefb1b98",
   "metadata": {},
   "outputs": [],
   "source": [
    "# making count plot for \"Survived\" column\n",
    "sns.countplot(x ='Survived', data=titanic_data)"
   ]
  },
  {
   "cell_type": "code",
   "execution_count": null,
   "id": "1411bd04",
   "metadata": {},
   "outputs": [],
   "source": [
    "# making count plot for sex column\n",
    "sns.countplot(x='Sex', data=titanic_data)"
   ]
  },
  {
   "cell_type": "code",
   "execution_count": null,
   "id": "da09d26d",
   "metadata": {},
   "outputs": [],
   "source": [
    "#number of survivors gender wise\n",
    "sns.countplot(x = 'Sex', hue = 'Survived', data=titanic_data)"
   ]
  },
  {
   "cell_type": "code",
   "execution_count": null,
   "id": "595c205e",
   "metadata": {},
   "outputs": [],
   "source": [
    "#making countplot for Pclass column\n",
    "sns.countplot(x = 'Pclass', data = titanic_data)"
   ]
  },
  {
   "cell_type": "code",
   "execution_count": null,
   "id": "4bd4276a",
   "metadata": {},
   "outputs": [],
   "source": [
    "# number of survivors on \"Pclass\" wise\n",
    "sns.countplot(x='Pclass', hue='Survived', data=titanic_data)"
   ]
  },
  {
   "cell_type": "markdown",
   "id": "c3dc8a0f",
   "metadata": {},
   "source": [
    "Encoding The Categorical Columns"
   ]
  },
  {
   "cell_type": "code",
   "execution_count": null,
   "id": "badfe65d",
   "metadata": {},
   "outputs": [],
   "source": [
    "# number of male and female\n",
    "titanic_data['Sex'].value_counts()"
   ]
  },
  {
   "cell_type": "code",
   "execution_count": null,
   "id": "19d52397",
   "metadata": {},
   "outputs": [],
   "source": [
    "# number of S, C, Q in \"Embarked\" column\n",
    "titanic_data['Embarked'].value_counts()"
   ]
  },
  {
   "cell_type": "code",
   "execution_count": null,
   "id": "18840ff6",
   "metadata": {},
   "outputs": [],
   "source": [
    "#Converting the categorical columns\n",
    "titanic_data.replace({'Sex': {'male':0, 'female':1}, 'Embarked':{'S':0, 'C':1, 'Q':2}}, inplace = True)"
   ]
  },
  {
   "cell_type": "code",
   "execution_count": null,
   "id": "5304b8e3",
   "metadata": {},
   "outputs": [],
   "source": [
    "# get the top 5 values\n",
    "titanic_data.head()"
   ]
  },
  {
   "cell_type": "markdown",
   "id": "2997b253",
   "metadata": {},
   "source": [
    "Separating Features and Targets"
   ]
  },
  {
   "cell_type": "code",
   "execution_count": null,
   "id": "072ce33b",
   "metadata": {},
   "outputs": [],
   "source": [
    "X = titanic_data.drop(['PassengerId', 'Name', 'Ticket', 'Survived'], axis= 1)\n",
    "Y = titanic_data['Survived']"
   ]
  },
  {
   "cell_type": "code",
   "execution_count": null,
   "id": "ec007519",
   "metadata": {},
   "outputs": [],
   "source": [
    "X"
   ]
  },
  {
   "cell_type": "code",
   "execution_count": null,
   "id": "bdaeec60",
   "metadata": {},
   "outputs": [],
   "source": [
    "Y"
   ]
  },
  {
   "cell_type": "markdown",
   "id": "3c075a86",
   "metadata": {},
   "source": [
    "Splitting the data into training data and test data"
   ]
  },
  {
   "cell_type": "code",
   "execution_count": null,
   "id": "11874c09",
   "metadata": {},
   "outputs": [],
   "source": [
    "X_train, X_test, Y_train, Y_test = train_test_split(X, Y, test_size = 0.2, random_state = 2)"
   ]
  },
  {
   "cell_type": "code",
   "execution_count": null,
   "id": "254fa18d",
   "metadata": {},
   "outputs": [],
   "source": [
    "print(X.shape, X_train.shape, X_test.shape)"
   ]
  },
  {
   "cell_type": "markdown",
   "id": "c52f91ed",
   "metadata": {},
   "source": [
    "### Model Training"
   ]
  },
  {
   "cell_type": "markdown",
   "id": "1baf7009",
   "metadata": {},
   "source": [
    "Logistic Regression"
   ]
  },
  {
   "cell_type": "code",
   "execution_count": null,
   "id": "167ade8f",
   "metadata": {},
   "outputs": [],
   "source": [
    "model = LogisticRegression()"
   ]
  },
  {
   "cell_type": "code",
   "execution_count": null,
   "id": "79212307",
   "metadata": {},
   "outputs": [],
   "source": [
    "# Training the Logistic Regression Model with the training data\n",
    "model.fit(X_train, Y_train)"
   ]
  },
  {
   "cell_type": "markdown",
   "id": "3ef22b07",
   "metadata": {},
   "source": [
    "### Model Evaluation"
   ]
  },
  {
   "cell_type": "markdown",
   "id": "4093974f",
   "metadata": {},
   "source": [
    "Accuracy Score"
   ]
  },
  {
   "cell_type": "code",
   "execution_count": null,
   "id": "b14c47f3",
   "metadata": {},
   "outputs": [],
   "source": [
    "# accuracy on training data\n",
    "X_train_prediction = model.predict(X_train)"
   ]
  },
  {
   "cell_type": "code",
   "execution_count": null,
   "id": "24f2b6b1",
   "metadata": {},
   "outputs": [],
   "source": [
    "X_train_prediction"
   ]
  },
  {
   "cell_type": "code",
   "execution_count": null,
   "id": "29ce0353",
   "metadata": {},
   "outputs": [],
   "source": [
    "training_data_accuracy = accuracy_score(Y_train, X_train_prediction)\n",
    "print('Accuracy of the training data is ', training_data_accuracy)"
   ]
  },
  {
   "cell_type": "code",
   "execution_count": null,
   "id": "6d04af45",
   "metadata": {},
   "outputs": [],
   "source": [
    "# accuracy on test data\n",
    "X_test_prediction = model.predict(X_test)"
   ]
  },
  {
   "cell_type": "code",
   "execution_count": null,
   "id": "ec0d4d3f",
   "metadata": {},
   "outputs": [],
   "source": [
    "X_test_prediction"
   ]
  },
  {
   "cell_type": "code",
   "execution_count": null,
   "id": "92dc100d",
   "metadata": {},
   "outputs": [],
   "source": [
    "test_data_accuracy = accuracy_score(Y_test, X_test_prediction)\n",
    "print('Accuracy of the test data is ', test_data_accuracy)"
   ]
  },
  {
   "cell_type": "markdown",
   "id": "e6a46bff",
   "metadata": {},
   "source": [
    "Training the model by RandomForestClassifier"
   ]
  },
  {
   "cell_type": "code",
   "execution_count": null,
   "id": "ad1402cf",
   "metadata": {},
   "outputs": [],
   "source": [
    "rf_model = RandomForestClassifier(random_state=2)\n"
   ]
  },
  {
   "cell_type": "code",
   "execution_count": null,
   "id": "e4315c0b",
   "metadata": {},
   "outputs": [],
   "source": [
    "rf_model.fit(X_train, Y_train)\n"
   ]
  },
  {
   "cell_type": "code",
   "execution_count": null,
   "id": "7ae5c703",
   "metadata": {},
   "outputs": [],
   "source": [
    "# On training data\n",
    "train_predictions = rf_model.predict(X_train)\n",
    "\n",
    "# On test data\n",
    "test_predictions = rf_model.predict(X_test)\n"
   ]
  },
  {
   "cell_type": "code",
   "execution_count": null,
   "id": "de3f66c9",
   "metadata": {},
   "outputs": [],
   "source": [
    "train_accuracy = accuracy_score(Y_train, train_predictions)\n",
    "test_accuracy = accuracy_score(Y_test, test_predictions)\n",
    "\n",
    "print(\"Training Accuracy (Random Forest):\", train_accuracy)\n",
    "print(\"Testing Accuracy (Random Forest):\", test_accuracy)\n"
   ]
  },
  {
   "cell_type": "code",
   "execution_count": null,
   "id": "b96cc4bd",
   "metadata": {},
   "outputs": [],
   "source": [
    "feature_names = X.columns\n",
    "importances = rf_model.feature_importances_\n",
    "indices = np.argsort(importances)\n",
    "\n",
    "plt.figure(figsize=(8, 6))\n",
    "plt.title(\"Feature Importances - Random Forest\")\n",
    "plt.barh(range(len(indices)), importances[indices], color=\"#08F7FE\", edgecolor=\"white\")\n",
    "plt.yticks(range(len(indices)), [feature_names[i] for i in indices])\n",
    "plt.xlabel(\"Relative Importance\")\n",
    "plt.grid(False)\n",
    "plt.show()"
   ]
  },
  {
   "cell_type": "code",
   "execution_count": null,
   "id": "0ba4b4c2",
   "metadata": {},
   "outputs": [],
   "source": [
    "log_model = LogisticRegression(max_iter=1000)\n",
    "log_model.fit(X_train, Y_train)\n",
    "log_train_acc = accuracy_score(Y_train, log_model.predict(X_train))\n",
    "log_test_acc  = accuracy_score(Y_test,  log_model.predict(X_test))\n"
   ]
  },
  {
   "cell_type": "code",
   "execution_count": null,
   "id": "330038ea",
   "metadata": {},
   "outputs": [],
   "source": [
    "from sklearn.tree import DecisionTreeClassifier, plot_tree\n",
    "dt_model = DecisionTreeClassifier(criterion='gini', max_depth=5, random_state=2)\n",
    "dt_model.fit(X_train, Y_train)\n",
    "dt_train_acc = accuracy_score(Y_train, dt_model.predict(X_train))\n",
    "dt_test_acc  = accuracy_score(Y_test,  dt_model.predict(X_test))\n"
   ]
  },
  {
   "cell_type": "code",
   "execution_count": null,
   "id": "578500df",
   "metadata": {},
   "outputs": [],
   "source": [
    "rf_model = RandomForestClassifier(n_estimators=100, max_depth=5, random_state=2)\n",
    "rf_model.fit(X_train, Y_train)\n",
    "rf_train_acc = accuracy_score(Y_train, rf_model.predict(X_train))\n",
    "rf_test_acc  = accuracy_score(Y_test,  rf_model.predict(X_test))\n"
   ]
  },
  {
   "cell_type": "code",
   "execution_count": null,
   "id": "bf162770",
   "metadata": {},
   "outputs": [],
   "source": [
    "print(f\"Logistic Regression: train={log_train_acc:.3f}, test={log_test_acc:.3f}\")\n",
    "print(f\"Decision Tree:       train={dt_train_acc:.3f}, test={dt_test_acc:.3f}\")\n",
    "print(f\"Random Forest:       train={rf_train_acc:.3f}, test={rf_test_acc:.3f}\")\n"
   ]
  },
  {
   "cell_type": "code",
   "execution_count": null,
   "id": "f36c55eb",
   "metadata": {},
   "outputs": [],
   "source": []
  }
 ],
 "metadata": {
  "kernelspec": {
   "display_name": "Python 3",
   "language": "python",
   "name": "python3"
  },
  "language_info": {
   "codemirror_mode": {
    "name": "ipython",
    "version": 3
   },
   "file_extension": ".py",
   "mimetype": "text/x-python",
   "name": "python",
   "nbconvert_exporter": "python",
   "pygments_lexer": "ipython3",
   "version": "3.12.5"
  }
 },
 "nbformat": 4,
 "nbformat_minor": 5
}
